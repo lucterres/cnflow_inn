{
 "cells": [
  {
   "cell_type": "code",
   "execution_count": null,
   "metadata": {},
   "outputs": [],
   "source": [
    "import torch\n",
    "import torch.nn as nn\n",
    "import torch.nn.functional as F\n",
    "import torch.optim as optim\n",
    "from torchvision import datasets, transforms\n",
    "\n",
    "import config as c\n",
    "import data as color_data\n"
   ]
  },
  {
   "cell_type": "code",
   "execution_count": null,
   "metadata": {},
   "outputs": [],
   "source": [
    "class Net(nn.Module):\n",
    "    def __init__(self):\n",
    "        super(Net, self).__init__()\n",
    "        self.conv = nn.Sequential(\n",
    "                     nn.Conv2d(1, 32, kernel_size=3),\n",
    "                     nn.Conv2d(32, 64, kernel_size=3),\n",
    "                     nn.MaxPool2d(2),\n",
    "                     nn.Conv2d(64, 64, kernel_size=3),\n",
    "                     nn.Conv2d(64, 64, kernel_size=3),\n",
    "                     nn.MaxPool2d(2),\n",
    "                     )\n",
    "\n",
    "        self.linear = nn.Sequential(\n",
    "                    nn.Dropout(),\n",
    "                    nn.Linear(1024, 512),\n",
    "                    nn.Dropout(),\n",
    "                    nn.Linear(512, 512),\n",
    "                    nn.Dropout(),\n",
    "                    nn.Linear(512, c.cond_width),\n",
    "                    )\n",
    "\n",
    "        self.fc_final = nn.Linear(c.cond_width, 10)\n",
    "\n",
    "    def forward(self, x):\n",
    "        x = self.conv(x)\n",
    "        x = x.view(c.batch_size, -1)\n",
    "        x = self.linear(x)\n",
    "        x = self.fc_final(x)\n",
    "        return F.log_softmax(x, dim=1)\n",
    "\n",
    "    def features(self, x):\n",
    "        x = self.conv(x)\n",
    "        x = x.view(c.batch_size, -1)\n",
    "        return self.linear(x)\n",
    "\n",
    "model = Net().cuda()\n",
    "log_interval = 25\n",
    "\n",
    "def train():\n",
    "    model.train()\n",
    "    for batch_idx, (color, target, data) in enumerate(color_data.train_loader):\n",
    "        data, target = data.cuda(), target.long().cuda()\n",
    "        optimizer.zero_grad()\n",
    "        output = model(data)\n",
    "        loss = F.nll_loss(output, target)\n",
    "        loss.backward()\n",
    "        optimizer.step()\n",
    "        if batch_idx % log_interval == 0:\n",
    "            print('Train Epoch: {} [{}/{} ({:.0f}%)]\\tLoss: {:.6f}'.format(\n",
    "                epoch, batch_idx * len(data), len(color_data.train_loader.dataset),\n",
    "                100. * batch_idx / len(color_data.train_loader), loss.item()))\n",
    "\n",
    "test_loader = torch.utils.data.DataLoader(\n",
    "        datasets.MNIST('./mnist_data', train=False, transform=transforms.ToTensor()),\n",
    "        batch_size=c.batch_size, shuffle=True, drop_last=True)\n",
    "\n",
    "def test():\n",
    "    model.train()\n",
    "    test_loss = 0\n",
    "    correct = 0\n",
    "    with torch.no_grad():\n",
    "        for data, target in test_loader:\n",
    "            data, target = data.cuda(), target.cuda()\n",
    "            output = model(data)\n",
    "            test_loss += F.nll_loss(output, target, reduction='sum').item() # sum up batch loss\n",
    "            pred = output.max(1, keepdim=True)[1] # get the index of the max log-probability\n",
    "            correct += pred.eq(target.view_as(pred)).sum().item()\n",
    "\n",
    "    test_loss /= len(test_loader.dataset)\n",
    "    print('\\nTest set: Average loss: {:.4f}, Accuracy: {}/{} ({:.0f}%)\\n'.format(\n",
    "        test_loss, correct, len(test_loader.dataset),\n",
    "        100. * correct / len(test_loader.dataset)))\n",
    "\n"
   ]
  },
  {
   "cell_type": "code",
   "execution_count": null,
   "metadata": {},
   "outputs": [],
   "source": [
    "c.cond_net_file = 'output/cond_net_file.pt'  \n"
   ]
  },
  {
   "cell_type": "code",
   "execution_count": null,
   "metadata": {},
   "outputs": [],
   "source": [
    "\n",
    "from sqlalchemy import false\n",
    "\n",
    "\n",
    "optimizer = optim.SGD(model.parameters(), lr=0.03, momentum=0.5)\n",
    "\n",
    "for epoch in range(6):\n",
    "       train()\n",
    "       test()"
   ]
  },
  {
   "cell_type": "code",
   "execution_count": 11,
   "metadata": {},
   "outputs": [],
   "source": [
    "\n",
    "torch.save(model.state_dict(), c.cond_net_file)\n"
   ]
  },
  {
   "cell_type": "code",
   "execution_count": null,
   "metadata": {},
   "outputs": [],
   "source": [
    "\n",
    "if (false):\n",
    "    model.train()\n",
    "    if c.cond_net_file:\n",
    "        model.load_state_dict(torch.load(c.cond_net_file))\n"
   ]
  }
 ],
 "metadata": {
  "kernelspec": {
   "display_name": "Python 3",
   "language": "python",
   "name": "python3"
  },
  "language_info": {
   "codemirror_mode": {
    "name": "ipython",
    "version": 3
   },
   "file_extension": ".py",
   "mimetype": "text/x-python",
   "name": "python",
   "nbconvert_exporter": "python",
   "pygments_lexer": "ipython3",
   "version": "3.8.8"
  },
  "orig_nbformat": 4,
  "vscode": {
   "interpreter": {
    "hash": "14f7fd295da18d51ca88726a263299245f27ba416687bfd4eada1f307496d378"
   }
  }
 },
 "nbformat": 4,
 "nbformat_minor": 2
}
