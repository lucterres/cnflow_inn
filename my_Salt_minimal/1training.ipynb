{
 "cells": [
  {
   "attachments": {},
   "cell_type": "markdown",
   "metadata": {},
   "source": [
    "# Train "
   ]
  },
  {
   "cell_type": "code",
   "execution_count": null,
   "metadata": {},
   "outputs": [],
   "source": [
    "from time import time\n",
    "from tqdm import tqdm\n",
    "import torch\n",
    "import torch.nn\n",
    "import torch.optim\n",
    "import numpy as np"
   ]
  },
  {
   "cell_type": "code",
   "execution_count": null,
   "metadata": {},
   "outputs": [],
   "source": [
    "import model"
   ]
  },
  {
   "cell_type": "code",
   "execution_count": null,
   "metadata": {},
   "outputs": [],
   "source": [
    "import dataSeismic as data"
   ]
  },
  {
   "cell_type": "code",
   "execution_count": null,
   "metadata": {},
   "outputs": [],
   "source": [
    "cinn = model.MNIST_cINN(5e-4)\n",
    "cinn.cuda()\n",
    "scheduler = torch.optim.lr_scheduler.MultiStepLR(cinn.optimizer, milestones=[20, 40], gamma=0.1)\n",
    "\n",
    "N_epochs = 60\n",
    "t_start = time()\n",
    "nll_mean = []"
   ]
  },
  {
   "cell_type": "code",
   "execution_count": null,
   "metadata": {},
   "outputs": [],
   "source": [
    "print('Epoch\\tBatch/Total \\tTime \\tNLL train\\tNLL val\\tLR')\n",
    "for epoch in range(N_epochs):\n",
    "    for i, (x, l) in enumerate(data.train_loader): #data.train_loader):\n",
    "        x, l = x.cuda(), l.cuda()\n",
    "        z, log_j = cinn(x, l)\n",
    "\n",
    "        nll = torch.mean(z**2) / 2 - torch.mean(log_j) / model.ndim_total\n",
    "        nll.backward()\n",
    "        torch.nn.utils.clip_grad_norm_(cinn.trainable_parameters, 10.)\n",
    "        nll_mean.append(nll.item())\n",
    "        cinn.optimizer.step()\n",
    "        cinn.optimizer.zero_grad()\n",
    "\n",
    "        if not i % 50:\n",
    "            with torch.no_grad():\n",
    "                z, log_j = cinn(data.val_x, data.val_l) #cinn(data.val_x, data.val_l)\n",
    "                nll_val = torch.mean(z**2) / 2 - torch.mean(log_j) / model.ndim_total\n",
    "\n",
    "            print('%.3i \\t%.5i/%.5i \\t%.2f \\t%.6f\\t%.6f\\t%.2e' % (epoch,\n",
    "                                                            i, len(data.train_loader),\n",
    "                                                            (time() - t_start)/60.,\n",
    "                                                            np.mean(nll_mean),\n",
    "                                                            nll_val.item(),\n",
    "                                                            cinn.optimizer.param_groups[0]['lr'],\n",
    "                                                            ), flush=True)\n",
    "            nll_mean = []\n",
    "    scheduler.step()"
   ]
  },
  {
   "cell_type": "code",
   "execution_count": null,
   "metadata": {},
   "outputs": [],
   "source": [
    "torch.save(cinn.state_dict(), 'output/mnist_cinn.pt')"
   ]
  }
 ],
 "metadata": {
  "kernelspec": {
   "display_name": "salt",
   "language": "python",
   "name": "python3"
  },
  "language_info": {
   "codemirror_mode": {
    "name": "ipython",
    "version": 3
   },
   "file_extension": ".py",
   "mimetype": "text/x-python",
   "name": "python",
   "nbconvert_exporter": "python",
   "pygments_lexer": "ipython3",
   "version": "3.8.8"
  },
  "orig_nbformat": 4,
  "vscode": {
   "interpreter": {
    "hash": "6519ec3d6d74aa3a8a2f9552931a87abcc4f0825d19a87e9d6be02805cd5a20b"
   }
  }
 },
 "nbformat": 4,
 "nbformat_minor": 2
}
